{
 "cells": [
  {
   "cell_type": "code",
   "execution_count": 1,
   "metadata": {},
   "outputs": [
    {
     "name": "stderr",
     "output_type": "stream",
     "text": [
      "WARNING (theano.sandbox.cuda): The cuda backend is deprecated and will be removed in the next release (v0.10).  Please switch to the gpuarray backend. You can get more information about how to switch at this URL:\n",
      " https://github.com/Theano/Theano/wiki/Converting-to-the-new-gpu-back-end%28gpuarray%29\n",
      "\n",
      "Using gpu device 0: GeForce GTX 970 (CNMeM is enabled with initial size: 80.0% of memory, cuDNN 5110)\n",
      "Using Theano backend.\n"
     ]
    }
   ],
   "source": [
    "from __future__ import division, print_function\n",
    "import os, json\n",
    "from glob import glob\n",
    "import numpy as np\n",
    "np.set_printoptions(precision=4, linewidth=100)\n",
    "from matplotlib import pyplot as plt\n",
    "from importlib import reload  # Python 3\n",
    "# import utils; reload(utils)\n",
    "# from utils import plots\n",
    "\n",
    "from scipy import misc, ndimage\n",
    "from scipy.ndimage.interpolation import zoom\n",
    "from sklearn.metrics import confusion_matrix\n",
    "import itertools\n",
    "from itertools import chain\n",
    "\n",
    "import time\n",
    "from utils import pred_batch\n",
    "from utils import plots\n",
    "from utils import confusion_matrix\n",
    "from utils import plot_confusion_matrix\n",
    "from utils import get_batches\n",
    "\n",
    "from keras import backend as K\n",
    "from keras.layers.normalization import BatchNormalization\n",
    "from keras.utils.data_utils import get_file\n",
    "from keras.models import Sequential\n",
    "from keras.layers.core import Flatten, Dense, Dropout, Lambda\n",
    "from keras.layers.convolutional import Conv2D, MaxPooling2D, ZeroPadding2D  # Conv2D: Keras2\n",
    "from keras.layers.pooling import GlobalAveragePooling2D\n",
    "from keras.optimizers import SGD, RMSprop, Adam\n",
    "from keras.preprocessing import image\n",
    "\n",
    "%matplotlib inline"
   ]
  },
  {
   "cell_type": "markdown",
   "metadata": {},
   "source": [
    "# Define paths and constants"
   ]
  },
  {
   "cell_type": "code",
   "execution_count": 2,
   "metadata": {
    "collapsed": true
   },
   "outputs": [],
   "source": [
    "#path to sample data aranged in train, valid and test folders\n",
    "path='C:\\\\Users\\\\U5752631\\\\Desktop\\\\csproj17s2\\\\artefacts\\\\data\\\\machinelearning\\\\sample\\\\'\n",
    "\n",
    "#laod fine tuned weights \n",
    "model_path = 'C:\\\\Users\\\\U5752631\\\\Desktop\\\\csproj17s2\\\\artefacts\\data\\\\pretrained_models\\\\parkinglot_vgg19.h5'\n",
    "model_name='vgg19.h5'\n",
    "#load orignal weights\n",
    "model_path = 'C:\\\\Users\\\\U5752631\\\\.keras\\\\models\\\\vgg19_weights_tf_dim_ordering_tf_kernels.h5'\n",
    "\n",
    "#path to save new model trained\n",
    "results_path='C:\\\\Users\\\\U5752631\\\\Desktop\\\\csproj17s2\\\\artefacts\\\\data\\\\pretrained_models\\\\vgg19\\\\'\n",
    "\n",
    "#adjust according to memory avilible\n",
    "batch_size = 16\n",
    "if not os.path.exists(results_path):\n",
    "    os.makedirs(results_path)"
   ]
  },
  {
   "cell_type": "code",
   "execution_count": 3,
   "metadata": {
    "collapsed": true
   },
   "outputs": [],
   "source": [
    "# Mean of each channel as provided by VGG researchers and change rgb axis\n",
    "vgg_mean = np.array([123.68, 116.779, 103.939]).reshape((3,1,1))\n",
    "\n",
    "def vgg_preprocess(x):\n",
    "    x = x - vgg_mean     # subtract mean\n",
    "    return x[:, ::-1]    # reverse axis bgr->rgb"
   ]
  },
  {
   "cell_type": "code",
   "execution_count": 4,
   "metadata": {
    "collapsed": true
   },
   "outputs": [],
   "source": [
    "# convolutional block definition\n",
    "def ConvBlock(model, layers, filters):\n",
    "    for i in range(layers): \n",
    "        model.add(ZeroPadding2D((1,1)))\n",
    "        model.add(Conv2D(filters, (3, 3), activation='relu'))\n",
    "    model.add(MaxPooling2D((2,2), strides=(2,2)))\n",
    "\n",
    "#fully-connected block definition\n",
    "def FCBlock(model):\n",
    "    model.add(Dense(4096, activation='relu'))\n",
    "    model.add(Dropout(0.5))"
   ]
  },
  {
   "cell_type": "code",
   "execution_count": 5,
   "metadata": {
    "collapsed": true
   },
   "outputs": [],
   "source": [
    "#VGG19 model architecture \n",
    "def VGG_19():\n",
    "    model = Sequential()\n",
    "    model.add(Lambda(vgg_preprocess, input_shape=(3,224,224)))\n",
    "\n",
    "    ConvBlock(model, 2, 64)\n",
    "    ConvBlock(model, 2, 128)\n",
    "    ConvBlock(model, 4, 256)\n",
    "    ConvBlock(model, 4, 512)\n",
    "    ConvBlock(model, 4, 512)\n",
    "\n",
    "    model.add(Flatten())\n",
    "    FCBlock(model)\n",
    "    FCBlock(model)\n",
    "    model.add(Dense(1000, activation='softmax'))\n",
    "    return model"
   ]
  },
  {
   "cell_type": "code",
   "execution_count": 6,
   "metadata": {},
   "outputs": [
    {
     "name": "stderr",
     "output_type": "stream",
     "text": [
      "C:\\ProgramData\\Anaconda3\\lib\\site-packages\\keras\\layers\\core.py:629: UserWarning: `output_shape` argument not specified for layer lambda_1 and cannot be automatically inferred with the Theano backend. Defaulting to output shape `(None, 3, 224, 224)` (same as input shape). If the expected output shape is different, specify it via the `output_shape` argument.\n",
      "  .format(self.name, input_shape))\n"
     ]
    }
   ],
   "source": [
    "#create model\n",
    "model = VGG_19()"
   ]
  },
  {
   "cell_type": "code",
   "execution_count": 7,
   "metadata": {
    "collapsed": true
   },
   "outputs": [],
   "source": [
    "#load orignal weights\n",
    "#model_path = '~/.keras/models/vgg19_weights_th_dim_ordering_th_kernels.h5'\n",
    "#model.load_weights(get_file(model_name, model_path, cache_subdir='models'))"
   ]
  },
  {
   "cell_type": "code",
   "execution_count": 8,
   "metadata": {
    "collapsed": true
   },
   "outputs": [],
   "source": [
    "#laod fine tuned weights \n",
    "model.load_weights(model_path)"
   ]
  },
  {
   "cell_type": "code",
   "execution_count": 9,
   "metadata": {},
   "outputs": [
    {
     "name": "stdout",
     "output_type": "stream",
     "text": [
      "Found 391 images belonging to 2 classes.\n",
      "Found 105 images belonging to 2 classes.\n"
     ]
    }
   ],
   "source": [
    "train_batches = get_batches(path+'train', batch_size=batch_size)\n",
    "validation_batches = get_batches(path+'valid', batch_size=batch_size*2)"
   ]
  },
  {
   "cell_type": "code",
   "execution_count": 11,
   "metadata": {},
   "outputs": [],
   "source": [
    "#fine tune: drop the final layer and add a new layer to match the classes in current dataset and recompile the model\n",
    "#set learning rate\n",
    "lr=0.0001\n",
    "\n",
    "model.pop()\n",
    "for layer in model.layers: layer.trainable=False\n",
    "model.add(Dense(train_batches.num_class, activation='softmax'))\n",
    "model.compile(optimizer=Adam(lr=lr),loss='categorical_crossentropy', metrics=['accuracy'])\n",
    "\n",
    "classes = list(iter(train_batches.class_indices))\n",
    "for c in train_batches.class_indices:\n",
    "    classes[train_batches.class_indices[c]] = c\n"
   ]
  },
  {
   "cell_type": "code",
   "execution_count": 12,
   "metadata": {},
   "outputs": [
    {
     "name": "stdout",
     "output_type": "stream",
     "text": [
      "Epoch 1/1\n",
      "25/25 [==============================] - 11s - loss: 0.7316 - acc: 0.6685 - val_loss: 0.8846 - val_acc: 0.4677\n"
     ]
    },
    {
     "data": {
      "text/plain": [
       "<keras.callbacks.History at 0x1a76ee91f98>"
      ]
     },
     "execution_count": 12,
     "metadata": {},
     "output_type": "execute_result"
    }
   ],
   "source": [
    "#fit run single epoch\n",
    "nb_epoch=1\n",
    "model.optimizer.lr=0.0001\n",
    "model.fit_generator(train_batches,\n",
    "                    steps_per_epoch=int(np.ceil(train_batches.samples/batch_size)),\n",
    "                    epochs=nb_epoch,\n",
    "                    validation_data=validation_batches, \n",
    "                    validation_steps=int(np.ceil(validation_batches.samples/batch_size)))"
   ]
  },
  {
   "cell_type": "code",
   "execution_count": 13,
   "metadata": {
    "collapsed": true
   },
   "outputs": [],
   "source": [
    "model.save_weights(results_path+'parkinglot_vgg19.h5')"
   ]
  },
  {
   "cell_type": "code",
   "execution_count": 14,
   "metadata": {
    "collapsed": true
   },
   "outputs": [],
   "source": [
    "#model.load_weights(results_path+'parkinglot_vgg19.h5')"
   ]
  },
  {
   "cell_type": "code",
   "execution_count": 15,
   "metadata": {},
   "outputs": [
    {
     "data": {
      "text/plain": [
       "'\\nlatest_weights_filename = None\\nmodel.optimizer.lr = 0.00001\\nno_of_epochs=5\\nbatch_size = 16\\nfor epoch in range(no_of_epochs):\\n    print(\"Running epoch: %d\" % epoch)\\n    \\n    if epoch%2==0:\\n        model.optimizer.lr = model.optimizer.lr*10\\n    \\n    model.fit_generator(batches, steps_per_epoch=int(np.ceil(batches.samples/batch_size)),                    \\n                        epochs=nb_epoch,validation_data=validation_batches, validation_steps=int(np.ceil(validation_batches.samples/batch_size)))\\n\\n    \\n    latest_weights_filename = \\'ft%d.h5\\' % epoch\\n    model.save_weights(results_path+latest_weights_filename)\\nprint(\"Completed %s fit operations\" % no_of_epochs)\\n'"
      ]
     },
     "execution_count": 15,
     "metadata": {},
     "output_type": "execute_result"
    }
   ],
   "source": [
    "#Notice we are passing in the validation dataset to the fit() method\n",
    "#For each epoch we test our model against the validation set\n",
    "#uncomment following code to run multiple epoches and adjust the learning rate\n",
    "\"\"\"\n",
    "latest_weights_filename = None\n",
    "model.optimizer.lr = 0.00001\n",
    "no_of_epochs=5\n",
    "batch_size = 16\n",
    "for epoch in range(no_of_epochs):\n",
    "    print(\"Running epoch: %d\" % epoch)\n",
    "    \n",
    "    if epoch%2==0:\n",
    "        model.optimizer.lr = model.optimizer.lr*10\n",
    "    \n",
    "    model.fit_generator(batches, steps_per_epoch=int(np.ceil(batches.samples/batch_size)),                    \n",
    "                        epochs=nb_epoch,validation_data=validation_batches, validation_steps=int(np.ceil(validation_batches.samples/batch_size)))\n",
    "\n",
    "    \n",
    "    latest_weights_filename = 'ft%d.h5' % epoch\n",
    "    model.save_weights(results_path+latest_weights_filename)\n",
    "print(\"Completed %s fit operations\" % no_of_epochs)\n",
    "\"\"\""
   ]
  },
  {
   "cell_type": "code",
   "execution_count": 16,
   "metadata": {},
   "outputs": [
    {
     "name": "stdout",
     "output_type": "stream",
     "text": [
      "Found 391 images belonging to 2 classes.\n"
     ]
    },
    {
     "data": {
      "image/png": "[encoded data removed]",
      "text/plain": [
       "<matplotlib.figure.Figure at 0x1a77e598f28>"
      ]
     },
     "metadata": {},
     "output_type": "display_data"
    }
   ],
   "source": [
    "#sample batch data\n",
    "\n",
    "batch_size = 5\n",
    "batches = get_batches(path+'train', batch_size=batch_size)\n",
    "imgs,labels = next(batches)\n",
    "plots(imgs, titles=labels)"
   ]
  },
  {
   "cell_type": "code",
   "execution_count": 17,
   "metadata": {},
   "outputs": [
    {
     "name": "stdout",
     "output_type": "stream",
     "text": [
      "Shape: (5, 2)\n",
      "Classes: ['empty', 'occupied']\n",
      "Probabilities: [ 0.2476  0.7524]\n",
      "\n",
      "Predictions prob/class: \n",
      "  0.7524/occupied\n",
      "  0.7501/occupied\n",
      "  0.7337/occupied\n",
      "  0.7599/occupied\n",
      "  0.7686/occupied\n"
     ]
    }
   ],
   "source": [
    "#predictions sample batch data\n",
    "pred_batch(model,classes,imgs)"
   ]
  },
  {
   "cell_type": "code",
   "execution_count": 24,
   "metadata": {},
   "outputs": [
    {
     "name": "stdout",
     "output_type": "stream",
     "text": [
      "1509271305.6510549\n",
      "Found 40 images belonging to 2 classes.\n",
      "1.001913070678711 s\n"
     ]
    }
   ],
   "source": [
    "#finding predictions for sample test data\n",
    "#Note: this takes average time = no of test images*0.01secs\n",
    "start_time = time.time()\n",
    "print(start_time)\n",
    "#get the test batches and remove class label\n",
    "test_batches = get_batches(path+'test', shuffle=False, batch_size=batch_size, class_mode=None)\n",
    "#generate the probobailty of belonging to a class\n",
    "val_batches, probs = test_batches, model.predict_generator(test_batches, int(np.ceil(test_batches.samples/batch_size)))\n",
    "print((time.time() - start_time),'s')"
   ]
  },
  {
   "cell_type": "code",
   "execution_count": 19,
   "metadata": {},
   "outputs": [
    {
     "name": "stdout",
     "output_type": "stream",
     "text": [
      "time per image 0.02456805109977722\n"
     ]
    }
   ],
   "source": [
    "print(\"time per image\" , ((time.time() - start_time)/len(probs)))"
   ]
  },
  {
   "cell_type": "code",
   "execution_count": 20,
   "metadata": {
    "scrolled": true
   },
   "outputs": [
    {
     "name": "stdout",
     "output_type": "stream",
     "text": [
      "[[ 0 20]\n",
      " [ 0 20]]\n",
      "error:  50.0\n"
     ]
    },
    {
     "data": {
      "image/png": "[encoded data removed]",
      "text/plain": [
       "<matplotlib.figure.Figure at 0x1a785012390>"
      ]
     },
     "metadata": {},
     "output_type": "display_data"
    }
   ],
   "source": [
    "#computing confustion matrix\n",
    "\n",
    "our_predictions = probs[:,0]\n",
    "our_labels = np.round(1-our_predictions)\n",
    "\n",
    "expected_labels = val_batches.classes\n",
    "\n",
    "cm = confusion_matrix(expected_labels, our_labels)\n",
    "plot_confusion_matrix(cm, val_batches.class_indices)"
   ]
  },
  {
   "cell_type": "code",
   "execution_count": 21,
   "metadata": {},
   "outputs": [
    {
     "name": "stdout",
     "output_type": "stream",
     "text": [
      "_________________________________________________________________\n",
      "Layer (type)                 Output Shape              Param #   \n",
      "=================================================================\n",
      "lambda_1 (Lambda)            (None, 3, 224, 224)       0         \n",
      "_________________________________________________________________\n",
      "zero_padding2d_1 (ZeroPaddin (None, 3, 226, 226)       0         \n",
      "_________________________________________________________________\n",
      "conv2d_1 (Conv2D)            (None, 64, 224, 224)      1792      \n",
      "_________________________________________________________________\n",
      "zero_padding2d_2 (ZeroPaddin (None, 64, 226, 226)      0         \n",
      "_________________________________________________________________\n",
      "conv2d_2 (Conv2D)            (None, 64, 224, 224)      36928     \n",
      "_________________________________________________________________\n",
      "max_pooling2d_1 (MaxPooling2 (None, 64, 112, 112)      0         \n",
      "_________________________________________________________________\n",
      "zero_padding2d_3 (ZeroPaddin (None, 64, 114, 114)      0         \n",
      "_________________________________________________________________\n",
      "conv2d_3 (Conv2D)            (None, 128, 112, 112)     73856     \n",
      "_________________________________________________________________\n",
      "zero_padding2d_4 (ZeroPaddin (None, 128, 114, 114)     0         \n",
      "_________________________________________________________________\n",
      "conv2d_4 (Conv2D)            (None, 128, 112, 112)     147584    \n",
      "_________________________________________________________________\n",
      "max_pooling2d_2 (MaxPooling2 (None, 128, 56, 56)       0         \n",
      "_________________________________________________________________\n",
      "zero_padding2d_5 (ZeroPaddin (None, 128, 58, 58)       0         \n",
      "_________________________________________________________________\n",
      "conv2d_5 (Conv2D)            (None, 256, 56, 56)       295168    \n",
      "_________________________________________________________________\n",
      "zero_padding2d_6 (ZeroPaddin (None, 256, 58, 58)       0         \n",
      "_________________________________________________________________\n",
      "conv2d_6 (Conv2D)            (None, 256, 56, 56)       590080    \n",
      "_________________________________________________________________\n",
      "zero_padding2d_7 (ZeroPaddin (None, 256, 58, 58)       0         \n",
      "_________________________________________________________________\n",
      "conv2d_7 (Conv2D)            (None, 256, 56, 56)       590080    \n",
      "_________________________________________________________________\n",
      "zero_padding2d_8 (ZeroPaddin (None, 256, 58, 58)       0         \n",
      "_________________________________________________________________\n",
      "conv2d_8 (Conv2D)            (None, 256, 56, 56)       590080    \n",
      "_________________________________________________________________\n",
      "max_pooling2d_3 (MaxPooling2 (None, 256, 28, 28)       0         \n",
      "_________________________________________________________________\n",
      "zero_padding2d_9 (ZeroPaddin (None, 256, 30, 30)       0         \n",
      "_________________________________________________________________\n",
      "conv2d_9 (Conv2D)            (None, 512, 28, 28)       1180160   \n",
      "_________________________________________________________________\n",
      "zero_padding2d_10 (ZeroPaddi (None, 512, 30, 30)       0         \n",
      "_________________________________________________________________\n",
      "conv2d_10 (Conv2D)           (None, 512, 28, 28)       2359808   \n",
      "_________________________________________________________________\n",
      "zero_padding2d_11 (ZeroPaddi (None, 512, 30, 30)       0         \n",
      "_________________________________________________________________\n",
      "conv2d_11 (Conv2D)           (None, 512, 28, 28)       2359808   \n",
      "_________________________________________________________________\n",
      "zero_padding2d_12 (ZeroPaddi (None, 512, 30, 30)       0         \n",
      "_________________________________________________________________\n",
      "conv2d_12 (Conv2D)           (None, 512, 28, 28)       2359808   \n",
      "_________________________________________________________________\n",
      "max_pooling2d_4 (MaxPooling2 (None, 512, 14, 14)       0         \n",
      "_________________________________________________________________\n",
      "zero_padding2d_13 (ZeroPaddi (None, 512, 16, 16)       0         \n",
      "_________________________________________________________________\n",
      "conv2d_13 (Conv2D)           (None, 512, 14, 14)       2359808   \n",
      "_________________________________________________________________\n",
      "zero_padding2d_14 (ZeroPaddi (None, 512, 16, 16)       0         \n",
      "_________________________________________________________________\n",
      "conv2d_14 (Conv2D)           (None, 512, 14, 14)       2359808   \n",
      "_________________________________________________________________\n",
      "zero_padding2d_15 (ZeroPaddi (None, 512, 16, 16)       0         \n",
      "_________________________________________________________________\n",
      "conv2d_15 (Conv2D)           (None, 512, 14, 14)       2359808   \n",
      "_________________________________________________________________\n",
      "zero_padding2d_16 (ZeroPaddi (None, 512, 16, 16)       0         \n",
      "_________________________________________________________________\n",
      "conv2d_16 (Conv2D)           (None, 512, 14, 14)       2359808   \n",
      "_________________________________________________________________\n",
      "max_pooling2d_5 (MaxPooling2 (None, 512, 7, 7)         0         \n",
      "_________________________________________________________________\n",
      "flatten_1 (Flatten)          (None, 25088)             0         \n",
      "_________________________________________________________________\n",
      "dense_1 (Dense)              (None, 4096)              102764544 \n",
      "_________________________________________________________________\n",
      "dropout_1 (Dropout)          (None, 4096)              0         \n",
      "_________________________________________________________________\n",
      "dense_2 (Dense)              (None, 4096)              16781312  \n",
      "_________________________________________________________________\n",
      "dropout_2 (Dropout)          (None, 4096)              0         \n",
      "_________________________________________________________________\n",
      "dense_4 (Dense)              (None, 2)                 8194      \n",
      "=================================================================\n",
      "Total params: 139,578,434\n",
      "Trainable params: 8,194\n",
      "Non-trainable params: 139,570,240\n",
      "_________________________________________________________________\n"
     ]
    }
   ],
   "source": [
    "model.summary()"
   ]
  },
  {
   "cell_type": "code",
   "execution_count": 22,
   "metadata": {},
   "outputs": [
    {
     "data": {
      "text/plain": [
       "'\\nimport winsound\\nfrequency = 200  # Set Frequency To 2500 Hertz\\nduration = 500  # Set Duration To 1000 ms == 1 second\\nwinsound.Beep(frequency, duration)\\n'"
      ]
     },
     "execution_count": 22,
     "metadata": {},
     "output_type": "execute_result"
    }
   ],
   "source": [
    "#code to beep when code ends\n",
    "\"\"\"\n",
    "import winsound\n",
    "frequency = 200  # Set Frequency To 2500 Hertz\n",
    "duration = 500  # Set Duration To 1000 ms == 1 second\n",
    "winsound.Beep(frequency, duration)\n",
    "\"\"\""
   ]
  },
  {
   "cell_type": "code",
   "execution_count": 23,
   "metadata": {},
   "outputs": [
    {
     "data": {
      "text/plain": [
       "'\\nHan S, Mao H, Dally WJ. Deep compression: Compressing deep neural networks with pruning, trained quantization and huffman coding. arXiv preprint arXiv:1510.00149. 2015 Oct 1.\\nJia Y. Caffe model zoo.\\nCourse.fast.ai. (2017). Deep Learning For Coders. [online] Available at: http://course.fast.ai/ [Accessed 26 Oct. 2017].\\nCs231n.stanford.edu. (2017). Stanford University CS231n: Convolutional Neural Networks for Visual Recognition. [online] Available at: http://cs231n.stanford.edu/ [Accessed 27 Oct. 2017].\\n'"
      ]
     },
     "execution_count": 23,
     "metadata": {},
     "output_type": "execute_result"
    }
   ],
   "source": [
    "# -*- coding: utf-8 -*-\n",
    "# Reference:\n",
    "\"\"\"\n",
    "Han S, Mao H, Dally WJ. Deep compression: Compressing deep neural networks with pruning, trained quantization and huffman coding. arXiv preprint arXiv:1510.00149. 2015 Oct 1.\n",
    "Jia Y. Caffe model zoo.\n",
    "Course.fast.ai. (2017). Deep Learning For Coders. [online] Available at: http://course.fast.ai/ [Accessed 26 Oct. 2017].\n",
    "Cs231n.stanford.edu. (2017). Stanford University CS231n: Convolutional Neural Networks for Visual Recognition. [online] Available at: http://cs231n.stanford.edu/ [Accessed 27 Oct. 2017].\n",
    "François Chollet, https://github.com/fchollet/deep-learning-models\n",
    "\"\"\""
   ]
  }
 ],
 "metadata": {
  "kernelspec": {
   "display_name": "Python 3",
   "language": "python",
   "name": "python3"
  },
  "language_info": {
   "codemirror_mode": {
    "name": "ipython",
    "version": 3
   },
   "file_extension": ".py",
   "mimetype": "text/x-python",
   "name": "python",
   "nbconvert_exporter": "python",
   "pygments_lexer": "ipython3",
   "version": "3.6.1"
  }
 },
 "nbformat": 4,
 "nbformat_minor": 2
}
